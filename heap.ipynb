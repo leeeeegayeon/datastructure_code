{
  "nbformat": 4,
  "nbformat_minor": 0,
  "metadata": {
    "colab": {
      "provenance": [],
      "authorship_tag": "ABX9TyMOE9JHuetUNXuaYtbAozVl",
      "include_colab_link": true
    },
    "kernelspec": {
      "name": "python3",
      "display_name": "Python 3"
    },
    "language_info": {
      "name": "python"
    }
  },
  "cells": [
    {
      "cell_type": "markdown",
      "metadata": {
        "id": "view-in-github",
        "colab_type": "text"
      },
      "source": [
        "<a href=\"https://colab.research.google.com/github/leeeeegayeon/datastructure_code/blob/main/heap.ipynb\" target=\"_parent\"><img src=\"https://colab.research.google.com/assets/colab-badge.svg\" alt=\"Open In Colab\"/></a>"
      ]
    },
    {
      "cell_type": "markdown",
      "source": [
        "Max_heapify Pseudocode"
      ],
      "metadata": {
        "id": "a0UWco0s2zbl"
      }
    },
    {
      "cell_type": "code",
      "source": [
        "l=left(i)\n",
        "r=right(i)\n",
        "if (l<=heap-size(A) and A[l]>A[i])\n",
        "    then largest=l else largest=i\n",
        "if (r<=heap-size(A) and A[r]>A[i])\n",
        "    then largest=r\n",
        "if largest!=i\n",
        "    then exchange A[i] and A[largest]\n",
        "        Max_Heapify(A,largest)"
      ],
      "metadata": {
        "id": "YiLKAnTC29PP"
      },
      "execution_count": null,
      "outputs": []
    },
    {
      "cell_type": "markdown",
      "source": [
        "힙 객체의 구조\n"
      ],
      "metadata": {
        "id": "7mqpGN7l9VRM"
      }
    },
    {
      "cell_type": "code",
      "source": [
        "class Heap:\n",
        "    def __init__(self,args):\n",
        "        if len(args)!=0:\n",
        "            self.__A=args[0] #파라미터로 온 리스트\n",
        "        else:\n",
        "            self.__A=[]\n",
        "    def insert(self,x):\n",
        "        self.__A.append(x)\n",
        "        self.__percolateUp(len(self.__A)-1)\n",
        "    def __percolateUp(self,i:int):\n",
        "        parent=(i-1)//2\n",
        "        if i>0 and self.__A[i]>self.__A[parent],self.__A[i]\n",
        "        self.__percolateUp(parent)\n",
        "    def deleteMax(self):\n",
        "    #heap is in self.__A[0...len(self.__A)-1]\n",
        "        if(not self.isEmpty()):\n",
        "            max=self.__A[0]\n",
        "            self.__A[0]=self.__A.pop() #pop():리스트의 끝원소 삭제 후 리턴\n",
        "            self.__percolateDown(0)\n",
        "            return max\n",
        "        else:\n",
        "            return None\n",
        "    def __percolateDown(self,i:int):\n",
        "        #Percolate down w/self.__A[i] as the root\n",
        "        child=2*i+1 #left child\n",
        "        right=2*i+2 #right child\n",
        "        if (child<=len(self.__A)-1):\n",
        "            if (right<=len(self.__A)-1 and self.__A[child]<self.__A[right]):\n",
        "                child=right #index of larger child\n",
        "            if self.__A[i]<self.__A[child]:\n",
        "                self.__A[i],self.__A[child]=self.__A[child],self.__A[i]\n",
        "    def max(self):\n",
        "        return self.__A[0]\n",
        "    def buildHeap(self):\n",
        "        for i in range(len(self.__A)-2//2,-1,-1):\n",
        "            self.__percolateDown(i)\n",
        "    def isEmpty(self)->bool:\n",
        "        return len(self.__A)==0\n",
        "    def clear(self):\n",
        "        self.__A=[]\n",
        "    def size(self)->int:\n",
        "        return len(self.__A)"
      ],
      "metadata": {
        "id": "EaES3M8t9XHM"
      },
      "execution_count": null,
      "outputs": []
    }
  ]
}