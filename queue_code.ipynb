{
  "nbformat": 4,
  "nbformat_minor": 0,
  "metadata": {
    "colab": {
      "provenance": [],
      "authorship_tag": "ABX9TyPrlyp391L2bmmLlmZGlgD4",
      "include_colab_link": true
    },
    "kernelspec": {
      "name": "python3",
      "display_name": "Python 3"
    },
    "language_info": {
      "name": "python"
    }
  },
  "cells": [
    {
      "cell_type": "markdown",
      "metadata": {
        "id": "view-in-github",
        "colab_type": "text"
      },
      "source": [
        "<a href=\"https://colab.research.google.com/github/leeeeegayeon/datastructure_code/blob/main/queue_code.ipynb\" target=\"_parent\"><img src=\"https://colab.research.google.com/assets/colab-badge.svg\" alt=\"Open In Colab\"/></a>"
      ]
    },
    {
      "cell_type": "markdown",
      "source": [
        "#1 리스트 큐 객체 구조"
      ],
      "metadata": {
        "id": "JZaJd0cr91df"
      }
    },
    {
      "cell_type": "code",
      "source": [
        "class ListQueue:\n",
        "    def __init__(self):\n",
        "        self.__queue=[]\n",
        "    def enqueue(self,x):\n",
        "        self.__queue.append(x) #맨뒤에 삽입\n",
        "\n",
        "    def dequeue(self):\n",
        "        return self.__queue.pop(0) #맨앞 원소 삭제\n",
        "\n",
        "    def front(self): #큐의 맨앞 원소 알려주기\n",
        "        if self.isEmpty():\n",
        "            return None\n",
        "        else:\n",
        "            return self.__queue[0]\n",
        "\n",
        "    def isEmpty(self)->bool:\n",
        "        return (len(self.__queue)==0)\n",
        "\n",
        "    def dequeueAll(self):\n",
        "        self.__queue.clear()\n",
        "\n",
        "    def printQueue(self):\n",
        "        print(\"Queue from front\",end='')\n",
        "        for i in range(len(self.__queue))\n",
        "            print()"
      ],
      "metadata": {
        "colab": {
          "base_uri": "https://localhost:8080/",
          "height": 110
        },
        "id": "CkWy6PQ8-bYA",
        "outputId": "f86fe829-7cca-4a6a-aa24-2259dfb158f6"
      },
      "execution_count": 1,
      "outputs": [
        {
          "output_type": "error",
          "ename": "SyntaxError",
          "evalue": "expected ':' (<ipython-input-1-c4225c57259e>, line 24)",
          "traceback": [
            "\u001b[0;36m  File \u001b[0;32m\"<ipython-input-1-c4225c57259e>\"\u001b[0;36m, line \u001b[0;32m24\u001b[0m\n\u001b[0;31m    for i in range(len(self.__queue))\u001b[0m\n\u001b[0m                                     ^\u001b[0m\n\u001b[0;31mSyntaxError\u001b[0m\u001b[0;31m:\u001b[0m expected ':'\n"
          ]
        }
      ]
    },
    {
      "cell_type": "markdown",
      "source": [
        "#2 연결리스트 스택 객체 구조\n"
      ],
      "metadata": {
        "id": "9gHY0_9U-h5_"
      }
    },
    {
      "cell_type": "code",
      "source": [
        "class LinkedQueue:\n",
        "    def __init__(self):\n",
        "        self.queue=CircularLinkedList()\n",
        "\n",
        "    def enqueue(self,x):\n",
        "        self.__queue.append(x)\n",
        "\n",
        "    def dequeue(self):\n",
        "        self.__queue.pop(0) #리스트의 첫 원소 삭제 후 리턴\n",
        "\n",
        "    def front(self):\n",
        "        return self.__queue.get(0) #리스트의 첫 원소 리턴\n",
        "\n",
        "    def isEmpty(self)->bool: #비었는지 확인하는 용도\n",
        "        return (self.__queue.isEmpty())\n",
        "\n",
        "    def dequeueAll(self):\n",
        "        self.__queue.clear()\n",
        "\n",
        "    def printQueue(self):\n",
        "        print(\"Queue from front\",end='')\n",
        "        for i in range(self.__queue.size()):\n",
        "            print(self.__queue.get(i),'',end='')\n",
        "        print()"
      ],
      "metadata": {
        "id": "XOPXqN1PAA4-"
      },
      "execution_count": null,
      "outputs": []
    },
    {
      "cell_type": "markdown",
      "source": [
        "#3 Palindrome(좌우동형 문자열) 체크"
      ],
      "metadata": {
        "id": "tM5La0YWA1LB"
      }
    },
    {
      "cell_type": "code",
      "source": [
        "def isPalindrome(A)->bool:\n",
        "    s=ListStack(); q=ListQueue()\n",
        "    for i in range(len(A)):\n",
        "        s.push(A[i]);q.enqueue(A[i])\n",
        "    while (not q.isEmpty()) and s.pop()==q.dequeue():\n",
        "        {}\n",
        "        if q.isEmpty():\n",
        "            return True\n",
        "        else:\n",
        "            return False\n",
        "\n",
        "def main():\n",
        "    print(\"Palindrome Check\")\n",
        "    str='lioninoil' #테스트 문자열\n",
        "    t=isPalindrome(str)\n",
        "    print(str,\"is palindrome?\",t)\n",
        "if __name__==\"__main__\":\n",
        "    main()"
      ],
      "metadata": {
        "id": "75QFgno-A-v5"
      },
      "execution_count": null,
      "outputs": []
    }
  ]
}